{
 "cells": [
  {
   "cell_type": "code",
   "execution_count": 1,
   "id": "124c3c6e-f08d-4186-9844-beebfb592d58",
   "metadata": {},
   "outputs": [],
   "source": [
    "import numpy as np\n",
    "import  requests\n",
    "from bs4 import BeautifulSoup\n",
    "import re\n",
    "import nltk\n",
    "import string\n",
    "import random"
   ]
  },
  {
   "cell_type": "code",
   "execution_count": 2,
   "id": "4f9fc39a-3bcc-4966-8b33-4adfaf5166fc",
   "metadata": {},
   "outputs": [],
   "source": [
    "# headers = {'User-Agent':'Mozilla/5.0 (Windows NT 6.3; Win 64 ; x64) Apple WeKit /537.36(KHTML , like Gecko) Chrome/80.0.3987.162 Safari/537.36'}\n",
    "webpage = requests.get('https://en.wikipedia.org/wiki/Data_science').text"
   ]
  },
  {
   "cell_type": "code",
   "execution_count": 3,
   "id": "cd87319b-6eda-4dfa-ae6c-0c58bdf82d66",
   "metadata": {},
   "outputs": [],
   "source": [
    "# webpage"
   ]
  },
  {
   "cell_type": "code",
   "execution_count": 4,
   "id": "cb904be9-0b7b-40a3-95fc-b2354a310108",
   "metadata": {},
   "outputs": [],
   "source": [
    "soup = BeautifulSoup(webpage,'lxml')"
   ]
  },
  {
   "cell_type": "code",
   "execution_count": 5,
   "id": "f448ad7d-2e4f-4ddc-abf5-bcb2092d2d9f",
   "metadata": {},
   "outputs": [],
   "source": [
    "# len(soup.find_all('div'))"
   ]
  },
  {
   "cell_type": "code",
   "execution_count": 6,
   "id": "8e1a071b-d2dd-4661-abaa-5ec8b59ca12f",
   "metadata": {},
   "outputs": [],
   "source": [
    "# laptops = soup.find_all('div', class_= 'Item__nameAndProps___VwlGG')\n",
    "text_p  = soup.find_all('p')"
   ]
  },
  {
   "cell_type": "code",
   "execution_count": 7,
   "id": "1e18a839-82f6-4792-bb78-e62f9ea021c2",
   "metadata": {},
   "outputs": [],
   "source": [
    "# laptop_name = []\n",
    "# for i in laptops:\n",
    "#     laptop_name.append(i.find('p', class_ = 'Item__name___1fPgt').text.strip())\n"
   ]
  },
  {
   "cell_type": "code",
   "execution_count": 8,
   "id": "65103db1-2f52-45a7-84ee-fd2503446d9f",
   "metadata": {},
   "outputs": [],
   "source": [
    "web_paragraphs = ''\n",
    "for i in text_p:\n",
    "    web_paragraphs+= i.text "
   ]
  },
  {
   "cell_type": "code",
   "execution_count": 9,
   "id": "9e499730-a100-412e-91ce-c68dffe70560",
   "metadata": {},
   "outputs": [],
   "source": [
    "# laptop_name = str(laptop_name).lower()\n",
    "# laptop_name"
   ]
  },
  {
   "cell_type": "code",
   "execution_count": 10,
   "id": "f0156dfb-d034-4c44-95b8-a529c96dcca4",
   "metadata": {},
   "outputs": [],
   "source": [
    "# web_paragraphs = re.sub(r'\\[[0-9]*\\]',' ', laptop_paragraphs).lower()\n",
    "# web_paragraphs= re.sub(r'\\s+',' ',web_paragraphs)"
   ]
  },
  {
   "cell_type": "code",
   "execution_count": 11,
   "id": "13150d1d-ba7d-4551-b092-e8bd4f32d294",
   "metadata": {},
   "outputs": [],
   "source": [
    "sentence = nltk.sent_tokenize(web_paragraphs)\n",
    "words = nltk.word_tokenize(web_paragraphs)"
   ]
  },
  {
   "cell_type": "code",
   "execution_count": null,
   "id": "9a2bf1ab-856b-4102-8523-b4018fb51125",
   "metadata": {},
   "outputs": [],
   "source": []
  },
  {
   "cell_type": "code",
   "execution_count": 12,
   "id": "a2cd3c63-9a40-4007-ab42-2541bcf48a3f",
   "metadata": {},
   "outputs": [],
   "source": [
    "word_lem = nltk.stem.WordNetLemmatizer()"
   ]
  },
  {
   "cell_type": "code",
   "execution_count": 13,
   "id": "e32c691a-748c-4ff4-8350-1335aac365d4",
   "metadata": {},
   "outputs": [],
   "source": [
    "def perfrom_lem(tokens):\n",
    "    return [word_lem.lemmatize(token) for token in tokens]"
   ]
  },
  {
   "cell_type": "code",
   "execution_count": 14,
   "id": "8c44a6ed-7008-4b94-a3be-1bcb3cfe3c3c",
   "metadata": {},
   "outputs": [],
   "source": [
    "# word_lem"
   ]
  },
  {
   "cell_type": "code",
   "execution_count": 15,
   "id": "a561b46e-db4c-46ad-96ed-0d214ca0391d",
   "metadata": {},
   "outputs": [],
   "source": [
    "# pr = dict((ord(punctuation), None) for punctuation in string.punctuation)"
   ]
  },
  {
   "cell_type": "code",
   "execution_count": 16,
   "id": "670f71c9-595f-4b06-adfd-a5275a054170",
   "metadata": {},
   "outputs": [],
   "source": [
    "from nltk.corpus import stopwords\n",
    "def get_processed_text(document):\n",
    "    processed_doc = document.lower()\n",
    "    processed_doc = re.sub('\\d+','',processed_doc)  # remove numbers\n",
    "    processed_doc = re.sub('\\s+',' ',processed_doc)  # remove extra spaces\n",
    "    words = processed_doc.split(' ')\n",
    "    processed_doc = ' '.join([  word for word in words if word not in set(stopwords.words('english'))])\n",
    "    return processed_doc "
   ]
  },
  {
   "cell_type": "code",
   "execution_count": 17,
   "id": "8526cee1-1d09-4bb2-bc50-9a7e73307a98",
   "metadata": {},
   "outputs": [],
   "source": [
    "greeting_input = ( \"hey\" ,\" good morning\" ,\" good evening\", \"morning\", \"evening\", \"whatsup\",\"hello\")\n",
    "greeting_response = [\" hey \",\"hey hows you\", \"whatsup how may I h\", \"hello, hows you doing\",\"hello\",\"welcome, I am good and you \"]\n",
    "def genrate_greeting_response(greeting):\n",
    "    for token in greeting.split():\n",
    "        if token.lower() in greeting_input:\n",
    "            return random.choice(greeting_response)"
   ]
  },
  {
   "cell_type": "code",
   "execution_count": 18,
   "id": "463e406f-282e-4457-990f-82f1ab10307a",
   "metadata": {},
   "outputs": [],
   "source": [
    "from sklearn.feature_extraction.text import TfidfVectorizer\n",
    "from sklearn.metrics.pairwise import cosine_similarity"
   ]
  },
  {
   "cell_type": "code",
   "execution_count": 19,
   "id": "4e9c6ff0-8337-42c8-b44c-d59235c6986b",
   "metadata": {},
   "outputs": [],
   "source": [
    "\n",
    "def genrate_response(human):\n",
    "    bot_responses = ''\n",
    "    sentence.append(human)\n",
    "\n",
    "\n",
    "    word_vectorizer = TfidfVectorizer(tokenizer = get_processed_text, stop_words = 'english')\n",
    "    word_vectors = word_vectorizer.fit_transform(sentence)\n",
    "\n",
    "    similar_vector_values = cosine_similarity(word_vectors[-1], word_vectors)\n",
    "    similar_sentance_number = similar_vector_values.argsort()[0][-2]\n",
    "\n",
    "    matched_vector = similar_vector_values.flatten()\n",
    "    matched_vector.sort( )\n",
    "    vector_matched = matched_vector[-2]\n",
    "    print(vector_matched)\n",
    "\n",
    "    if vector_matched == 0:\n",
    "        bot_responses += \"I am sorry I don't understand\"\n",
    "    else :\n",
    "        bot_responses += sentence[int(similar_sentance_number)]\n",
    "    \n",
    "    return bot_responses\n",
    "\n",
    "\n",
    "\n",
    "# Testing the function\n",
    "# print(genrate_response(\"what is data science\"))"
   ]
  },
  {
   "cell_type": "code",
   "execution_count": null,
   "id": "af085127-2bd3-41c1-ba67-42831dcf02c5",
   "metadata": {},
   "outputs": [],
   "source": []
  },
  {
   "cell_type": "code",
   "execution_count": 20,
   "id": "054a5f2b-1134-4295-8b7f-6881b2c5f438",
   "metadata": {},
   "outputs": [
    {
     "name": "stdout",
     "output_type": "stream",
     "text": [
      "Hello I am to assist you , Feel free to ask any thing regarding Laptops\n",
      "You said :  hello\n",
      "wiki bot : hello\n",
      "You said :  what is data science\n"
     ]
    },
    {
     "name": "stderr",
     "output_type": "stream",
     "text": [
      "c:\\Users\\sharm\\AppData\\Local\\Programs\\Python\\Python311\\Lib\\site-packages\\sklearn\\feature_extraction\\text.py:525: UserWarning: The parameter 'token_pattern' will not be used since 'tokenizer' is not None'\n",
      "  warnings.warn(\n",
      "c:\\Users\\sharm\\AppData\\Local\\Programs\\Python\\Python311\\Lib\\site-packages\\sklearn\\feature_extraction\\text.py:408: UserWarning: Your stop_words may be inconsistent with your preprocessing. Tokenizing the stop words generated tokens ['b', 'c', 'd', 'e', 'f', 'g', 'h', 'k', 'l', 'm', 'n', 'o', 'p', 'r', 's', 't', 'u', 'v', 'w', 'x', 'y'] not in stop_words.\n",
      "  warnings.warn(\n"
     ]
    },
    {
     "name": "stdout",
     "output_type": "stream",
     "text": [
      "0.8696467749278125\n",
      "wiki bot : After the 1985 lecture at the Chinese Academy of Sciences in Beijing, in 1997 C. F. Jeff Wu again suggested that statistics should be renamed data science.\n",
      "You said :  what is eda\n",
      "0.564069054557375\n",
      "wiki bot : [28] A decade later, they reaffirmed it, stating that \"the job is more in demand than ever with employers\".\n",
      "You said :  what is exploratary data analysis\n",
      "0.8002343341829334\n",
      "wiki bot : This can involve tasks such as data cleaning, data visualization, and exploratory data analysis to gain insights into the data and develop hypotheses about relationships between variables.\n",
      "You said :  thank you\n",
      "You are welcome\n"
     ]
    }
   ],
   "source": [
    "continue_flag = True\n",
    "print(\"Hello I am to assist you , Feel free to ask any thing regarding Laptops\")\n",
    "while(continue_flag==True):\n",
    "    human = input()\n",
    "    print(\"You said : \",human)\n",
    "    human = human.lower()\n",
    "    if human != 'bye':\n",
    "        if human == 'thanks' or human == 'thank you':\n",
    "            continue_flag = False\n",
    "            print(\"You are welcome\")\n",
    "        else:\n",
    "            if genrate_greeting_response(human) != None:\n",
    "                print(\"wiki bot :\",genrate_greeting_response(human))\n",
    "\n",
    "            else:\n",
    "                print(\"wiki bot :\",genrate_response(human))\n",
    "                sentence.remove(human)\n",
    "    else:\n",
    "        continue_flag = False\n",
    "        print(\"Goodbye, Take care of yourself\")\n",
    "    "
   ]
  },
  {
   "cell_type": "code",
   "execution_count": 21,
   "id": "c0b86b81",
   "metadata": {},
   "outputs": [],
   "source": [
    "\n",
    "# continue_flag = True\n",
    "# print(\"Hello I am to assist you , Feel free to ask any thing regarding Laptops\")\n",
    "# while(continue_flag==True):\n",
    "#     human = input()\n",
    "#     print(\"\\nYou said : \",human, end= \"\\n\")\n",
    "#     if human != \"bye\":\n",
    "#         if human.lower() == \"thankyou \" or human.lower() ==\" see you \":\n",
    "#             print(\"It's been my pleasure to assist you Sir, 'See you soon'\")\n",
    "#             continue_flag = False\n",
    "#         else:\n",
    "#             if genrate_greeting_response(human)!= None:\n",
    "#                 print(\"Simi Bot! \"+ genrate_greeting_response(human),end=\" \")\n",
    "#             else:\n",
    "#                 print(\"Simple Bot! \")\n",
    "#                 print(genrate_response(human))\n",
    "#                 # print(sentence)\n",
    "#                 sentence.remove(human)\n",
    "#     else:\n",
    "#         continue_flag = False"
   ]
  },
  {
   "cell_type": "code",
   "execution_count": null,
   "id": "439ba158-2784-4cc7-8601-07571e2d4d84",
   "metadata": {},
   "outputs": [],
   "source": []
  }
 ],
 "metadata": {
  "kernelspec": {
   "display_name": "Python 3 (ipykernel)",
   "language": "python",
   "name": "python3"
  },
  "language_info": {
   "codemirror_mode": {
    "name": "ipython",
    "version": 3
   },
   "file_extension": ".py",
   "mimetype": "text/x-python",
   "name": "python",
   "nbconvert_exporter": "python",
   "pygments_lexer": "ipython3",
   "version": "3.11.4"
  },
  "widgets": {
   "application/vnd.jupyter.widget-state+json": {
    "state": {},
    "version_major": 2,
    "version_minor": 0
   }
  }
 },
 "nbformat": 4,
 "nbformat_minor": 5
}
