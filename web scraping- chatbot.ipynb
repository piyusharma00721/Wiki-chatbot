{
 "cells": [
  {
   "cell_type": "code",
   "execution_count": 5,
   "id": "124c3c6e-f08d-4186-9844-beebfb592d58",
   "metadata": {},
   "outputs": [],
   "source": [
    "import numpy as np\n",
    "import  requests\n",
    "from bs4 import BeautifulSoup\n",
    "import re\n",
    "import nltk\n",
    "import string\n",
    "import random"
   ]
  },
  {
   "cell_type": "code",
   "execution_count": 6,
   "id": "4f9fc39a-3bcc-4966-8b33-4adfaf5166fc",
   "metadata": {},
   "outputs": [],
   "source": [
    "# headers = {'User-Agent':'Mozilla/5.0 (Windows NT 6.3; Win 64 ; x64) Apple WeKit /537.36(KHTML , like Gecko) Chrome/80.0.3987.162 Safari/537.36'}\n",
    "webpage = requests.get('https://en.wikipedia.org/wiki/Data_science').text"
   ]
  },
  {
   "cell_type": "code",
   "execution_count": 7,
   "id": "cd87319b-6eda-4dfa-ae6c-0c58bdf82d66",
   "metadata": {},
   "outputs": [],
   "source": [
    "# webpage"
   ]
  },
  {
   "cell_type": "code",
   "execution_count": 8,
   "id": "cb904be9-0b7b-40a3-95fc-b2354a310108",
   "metadata": {},
   "outputs": [],
   "source": [
    "soup = BeautifulSoup(webpage,'lxml')"
   ]
  },
  {
   "cell_type": "code",
   "execution_count": 9,
   "id": "f448ad7d-2e4f-4ddc-abf5-bcb2092d2d9f",
   "metadata": {},
   "outputs": [],
   "source": [
    "# len(soup.find_all('div'))"
   ]
  },
  {
   "cell_type": "code",
   "execution_count": 10,
   "id": "8e1a071b-d2dd-4661-abaa-5ec8b59ca12f",
   "metadata": {},
   "outputs": [],
   "source": [
    "# laptops = soup.find_all('div', class_= 'Item__nameAndProps___VwlGG')\n",
    "text_p  = soup.find_all('p')"
   ]
  },
  {
   "cell_type": "code",
   "execution_count": null,
   "id": "1e18a839-82f6-4792-bb78-e62f9ea021c2",
   "metadata": {},
   "outputs": [],
   "source": [
    "# laptop_name = []\n",
    "# for i in laptops:\n",
    "#     laptop_name.append(i.find('p', class_ = 'Item__name___1fPgt').text.strip())\n"
   ]
  },
  {
   "cell_type": "code",
   "execution_count": 13,
   "id": "65103db1-2f52-45a7-84ee-fd2503446d9f",
   "metadata": {},
   "outputs": [
    {
     "data": {
      "text/plain": [
       "'\\nData science is an interdisciplinary academic field[1] that uses statistics, scientific computing, scientific methods, processes, algorithms and systems to extract or extrapolate knowledge and insights from potentially noisy, structured, or unstructured data.[2]\\nData science also integrates domain knowledge from the underlying application domain (e.g., natural sciences, information technology, and medicine).[3] Data science is multifaceted and can be described as a science, a research paradigm, a research method, a discipline, a workflow, and a profession.[4]\\nData science is a \"concept to unify statistics, data analysis, informatics, and their related methods\" to \"understand and analyze actual phenomena\" with data.[5] It uses techniques and theories drawn from many fields within the context of mathematics, statistics, computer science, information science, and domain knowledge.[6] However, data science is different from computer science and information science. Turing Award winner Jim Gray imagined data science as a \"fourth paradigm\" of science (empirical, theoretical, computational, and now data-driven) and asserted that \"everything about science is changing because of the impact of information technology\" and the data deluge.[7][8]\\nA  data scientist is a professional who creates programming code and combines it with statistical knowledge to create insights from data.[9]\\nData science is an interdisciplinary field[10] focused on extracting knowledge from typically large data sets and applying the knowledge and insights from that data to solve problems in a wide range of application domains. The field encompasses preparing data for analysis, formulating data science problems, analyzing data, developing data-driven solutions, and presenting findings to inform high-level decisions in a broad range of application domains. As such, it incorporates skills from computer science, statistics, information science, mathematics, data visualization, information visualization, data sonification, data integration, graphic design, complex systems, communication and business.[11][12] Statistician Nathan Yau, drawing on Ben Fry, also links data science to human–computer interaction: users should be able to intuitively control and explore data.[13][14] In 2015, the American Statistical Association identified database management, statistics and machine learning, and distributed and parallel systems as the three emerging foundational professional communities.[15]\\nMany statisticians, including Nate Silver, have argued that data science is not a new field, but rather another name for statistics.[16] Others argue that data science is distinct from statistics because it focuses on problems and techniques unique to digital data.[17] Vasant Dhar writes that statistics emphasizes quantitative data and description. In contrast, data science deals with quantitative and qualitative data (e.g., from images, text, sensors, transactions, customer information, etc.) and emphasizes prediction and action.[18] Andrew Gelman of Columbia University has described statistics as a non-essential part of data science.[19]\\nStanford professor David Donoho writes that data science is not distinguished from statistics by the size of datasets or use of computing and that many graduate programs misleadingly advertise their analytics and statistics training as the essence of a data-science program. He describes data science as an applied field growing out of traditional statistics.[20]\\nIn 1962, John Tukey described a field he called \"data analysis\", which resembles modern data science.[20] In 1985, in a lecture given to the Chinese Academy of Sciences in Beijing, C.\\xa0F. Jeff Wu used the term \"data science\" for the first time as an alternative name for statistics.[21] Later, attendees at a 1992 statistics symposium at the University of Montpellier\\xa0 II acknowledged the emergence of a new discipline focused on data of various origins and forms, combining established concepts and principles of statistics and data analysis with computing.[22][23]\\nThe term \"data science\" has been traced back to 1974, when Peter Naur proposed it as an alternative name to computer science.[6] In 1996, the International Federation of Classification Societies became the first conference to specifically feature data science as a topic.[6] However, the definition was still in flux. After the 1985 lecture at the Chinese Academy of Sciences in Beijing, in 1997 C.\\xa0F. Jeff Wu again suggested that statistics should be renamed data science. He reasoned that a new name would help statistics shed inaccurate stereotypes, such as being synonymous with accounting or limited to describing data.[24] In 1998, Hayashi Chikio argued for data science as a new, interdisciplinary concept, with three aspects: data design, collection, and analysis.[23]\\nDuring the 1990s, popular terms for the process of finding patterns in datasets (which were increasingly large) included \"knowledge discovery\" and \"data mining\".[6][25]\\nIn 2012, technologists Thomas H. Davenport and DJ Patil declared \"Data Scientist: The Sexiest Job of the 21st Century\",[26] a catchphrase that was picked up even by major-city newspapers like the New York Times[27] and the Boston Globe.[28] A decade later, they reaffirmed it, stating that \"the job is more in demand than ever with employers\".[29]\\nThe modern conception of data science as an independent discipline is sometimes attributed to William S. Cleveland.[30] In a 2001 paper, he advocated an expansion of statistics beyond theory into technical areas; because this would significantly change the field, it warranted a new name.[25] \"Data science\" became more widely used in the next few years: in 2002, the Committee on Data for Science and Technology launched the Data Science Journal. In 2003, Columbia University launched The Journal of Data Science.[25] In 2014, the American Statistical Association\\'s Section on Statistical Learning and Data Mining changed its name to the Section on Statistical Learning and Data Science, reflecting the ascendant popularity of data science.[31]\\nThe professional title of \"data scientist\" has been attributed to DJ Patil and Jeff Hammerbacher in 2008.[32] Though it was used by the National Science Board in their 2005 report \"Long-Lived Digital Data Collections: Enabling Research and Education in the 21st Century\", it referred broadly to any key role in managing a digital data collection.[33]\\nThere is still no consensus on the definition of data science, and it is considered by some to be a buzzword.[34] Big data is a related marketing term.[35] Data scientists are responsible for breaking down big data into usable information and creating software and algorithms that help companies and organizations determine optimal operations.[36]\\nData science and data analysis are both important disciplines in the field of data management and analysis, but they differ in several key ways. While both fields involve working with data, data science is more of an interdisciplinary field that involves the application of statistical, computational, and machine learning methods to extract insights from data and make predictions, while data analysis is more focused on the examination and interpretation of data to identify patterns and trends.[37][38]\\nData analysis typically involves working with smaller, structured datasets to answer specific questions or solve specific problems. This can involve tasks such as data cleaning, data visualization, and exploratory data analysis to gain insights into the data and develop hypotheses about relationships between variables. Data analysts typically use statistical methods to test these hypotheses and draw conclusions from the data. For example, a data analyst might analyze sales data to identify trends in customer behavior and make recommendations for marketing strategies.[37]\\nData science, on the other hand, is a more complex and iterative process that involves working with larger, more complex datasets that often require advanced computational and statistical methods to analyze. Data scientists often work with unstructured data such as text or images and use machine learning algorithms to build predictive models and make data-driven decisions. In addition to statistical analysis, data science often involves tasks such as data preprocessing, feature engineering, and model selection. For instance, a data scientist might develop a recommendation system for an e-commerce platform by analyzing user behavior patterns and using machine learning algorithms to predict user preferences.[38][39]\\nWhile data analysis focuses on extracting insights from existing data, data science goes beyond that by incorporating the development and implementation of predictive models to make informed decisions. Data scientists are often responsible for collecting and cleaning data, selecting appropriate analytical techniques, and deploying models in real-world scenarios. They work at the intersection of mathematics, computer science, and domain expertise to solve complex problems and uncover hidden patterns in large datasets.[38]\\nDespite these differences, data science and data analysis are closely related fields and often require similar skill sets. Both fields require a solid foundation in statistics, programming, and data visualization, as well as the ability to communicate findings effectively to both technical and non-technical audiences. Both fields benefit from critical thinking and domain knowledge, as understanding the context and nuances of the data is essential for accurate analysis and modeling.[37][38]\\nIn summary, data analysis and data science are distinct yet interconnected disciplines within the broader field of data management and analysis. Data analysis focuses on extracting insights and drawing conclusions from structured data, while data science involves a more comprehensive approach that combines statistical analysis, computational methods, and machine learning to extract insights, build predictive models, and drive data-driven decision-making. Both fields use data to understand patterns, make informed decisions, and solve complex problems across various domains.\\n'"
      ]
     },
     "execution_count": 13,
     "metadata": {},
     "output_type": "execute_result"
    }
   ],
   "source": [
    "web_paragraphs = ''\n",
    "for i in text_p:\n",
    "    web_paragraphs+= i.text "
   ]
  },
  {
   "cell_type": "code",
   "execution_count": 14,
   "id": "9e499730-a100-412e-91ce-c68dffe70560",
   "metadata": {},
   "outputs": [],
   "source": [
    "# laptop_name = str(laptop_name).lower()\n",
    "# laptop_name"
   ]
  },
  {
   "cell_type": "code",
   "execution_count": null,
   "id": "f0156dfb-d034-4c44-95b8-a529c96dcca4",
   "metadata": {},
   "outputs": [],
   "source": [
    "# web_paragraphs = re.sub(r'\\[[0-9]*\\]',' ', laptop_paragraphs).lower()\n",
    "# web_paragraphs= re.sub(r'\\s+',' ',web_paragraphs)"
   ]
  },
  {
   "cell_type": "code",
   "execution_count": 15,
   "id": "13150d1d-ba7d-4551-b092-e8bd4f32d294",
   "metadata": {},
   "outputs": [],
   "source": [
    "sentence = nltk.sent_tokenize(web_paragraphs)\n",
    "words = nltk.word_tokenize(web_paragraphs)"
   ]
  },
  {
   "cell_type": "code",
   "execution_count": null,
   "id": "9a2bf1ab-856b-4102-8523-b4018fb51125",
   "metadata": {},
   "outputs": [],
   "source": []
  },
  {
   "cell_type": "code",
   "execution_count": 16,
   "id": "a2cd3c63-9a40-4007-ab42-2541bcf48a3f",
   "metadata": {},
   "outputs": [],
   "source": [
    "word_lem = nltk.stem.WordNetLemmatizer()"
   ]
  },
  {
   "cell_type": "code",
   "execution_count": 17,
   "id": "e32c691a-748c-4ff4-8350-1335aac365d4",
   "metadata": {},
   "outputs": [],
   "source": [
    "def perfrom_lem(tokens):\n",
    "    return [word_lem.lemmatize(token) for token in tokens]"
   ]
  },
  {
   "cell_type": "code",
   "execution_count": null,
   "id": "8c44a6ed-7008-4b94-a3be-1bcb3cfe3c3c",
   "metadata": {},
   "outputs": [],
   "source": [
    "# word_lem"
   ]
  },
  {
   "cell_type": "code",
   "execution_count": null,
   "id": "a561b46e-db4c-46ad-96ed-0d214ca0391d",
   "metadata": {},
   "outputs": [],
   "source": [
    "# pr = dict((ord(punctuation), None) for punctuation in string.punctuation)"
   ]
  },
  {
   "cell_type": "code",
   "execution_count": 18,
   "id": "670f71c9-595f-4b06-adfd-a5275a054170",
   "metadata": {},
   "outputs": [],
   "source": [
    "from nltk.corpus import stopwords\n",
    "def get_processed_text(document):\n",
    "    processed_doc = document.lower()\n",
    "    processed_doc = re.sub('\\d+','',processed_doc)  # remove numbers\n",
    "    processed_doc = re.sub('\\s+',' ',processed_doc)  # remove extra spaces\n",
    "    words = processed_doc.split(' ')\n",
    "    processed_doc = ' '.join([  word for word in words if word not in set(stopwords.words('english'))])\n",
    "    return processed_doc "
   ]
  },
  {
   "cell_type": "code",
   "execution_count": 19,
   "id": "8526cee1-1d09-4bb2-bc50-9a7e73307a98",
   "metadata": {},
   "outputs": [],
   "source": [
    "greeting_input = ( \"hey\" ,\" good morning\" ,\" good evening\", \"morning\", \"evening\", \"whatsup\",\"hello\")\n",
    "greeting_response = [\" hey \",\"hey hows you\", \"whatsup how may I h\", \"hello, hows you doing\",\"hello\",\"welcome, I am good and you \"]\n",
    "def genrate_greeting_response(greeting):\n",
    "    for token in greeting.split():\n",
    "        if token.lower() in greeting_input:\n",
    "            return random.choice(greeting_response)"
   ]
  },
  {
   "cell_type": "code",
   "execution_count": 20,
   "id": "463e406f-282e-4457-990f-82f1ab10307a",
   "metadata": {},
   "outputs": [],
   "source": [
    "from sklearn.feature_extraction.text import TfidfVectorizer\n",
    "from sklearn.metrics.pairwise import cosine_similarity"
   ]
  },
  {
   "cell_type": "code",
   "execution_count": 24,
   "id": "4e9c6ff0-8337-42c8-b44c-d59235c6986b",
   "metadata": {},
   "outputs": [],
   "source": [
    "\n",
    "def genrate_response(human):\n",
    "    bot_responses = ''\n",
    "    sentence.append(human)\n",
    "\n",
    "\n",
    "    word_vectorizer = TfidfVectorizer(tokenizer = get_processed_text, stop_words = 'english')\n",
    "    word_vectors = word_vectorizer.fit_transform(sentence)\n",
    "\n",
    "    similar_vector_values = cosine_similarity(word_vectors[-1], word_vectors)\n",
    "    similar_sentance_number = similar_vector_values.argsort()[0][-2]\n",
    "\n",
    "    matched_vector = similar_vector_values.flatten()\n",
    "    matched_vector.sort( )\n",
    "    vector_matched = matched_vector[-2]\n",
    "    print(vector_matched)\n",
    "\n",
    "    if vector_matched == 0:\n",
    "        bot_responses += \"I am sorry I don't understand\"\n",
    "    else :\n",
    "        bot_responses += sentence[int(similar_sentance_number)]\n",
    "    \n",
    "    return bot_responses\n",
    "\n",
    "\n",
    "\n",
    "# Testing the function\n",
    "# print(genrate_response(\"what is data science\"))"
   ]
  },
  {
   "cell_type": "code",
   "execution_count": null,
   "id": "af085127-2bd3-41c1-ba67-42831dcf02c5",
   "metadata": {},
   "outputs": [],
   "source": []
  },
  {
   "cell_type": "code",
   "execution_count": 25,
   "id": "054a5f2b-1134-4295-8b7f-6881b2c5f438",
   "metadata": {},
   "outputs": [
    {
     "name": "stdout",
     "output_type": "stream",
     "text": [
      "Hello I am to assist you , Feel free to ask any thing regarding Laptops\n",
      "You said :  data science\n",
      "1.0000000000000002\n",
      "wiki bot : what is data science\n",
      "You said :  hello\n",
      "wiki bot : whatsup how may I h\n",
      "You said :  what is data analysis\n",
      "0.8384069156466544\n",
      "wiki bot : Data analysts typically use statistical methods to test these hypotheses and draw conclusions from the data.\n",
      "You said :  data cleaning'\n",
      "0.6000595609873943\n",
      "wiki bot : [25] In 2014, the American Statistical Association's Section on Statistical Learning and Data Mining changed its name to the Section on Statistical Learning and Data Science, reflecting the ascendant popularity of data science.\n",
      "You said :  what is feature engneering\n",
      "0.7404567201251858\n",
      "wiki bot : For instance, a data scientist might develop a recommendation system for an e-commerce platform by analyzing user behavior patterns and using machine learning algorithms to predict user preferences.\n",
      "You said :  thankyou\n",
      "0.44765417825716514\n",
      "wiki bot : [11][12] Statistician Nathan Yau, drawing on Ben Fry, also links data science to human–computer interaction: users should be able to intuitively control and explore data.\n",
      "You said :  bye\n",
      "Goodbye, Take care of yourself\n"
     ]
    }
   ],
   "source": [
    "continue_flag = True\n",
    "print(\"Hello I am to assist you , Feel free to ask any thing regarding Laptops\")\n",
    "while(continue_flag==True):\n",
    "    human = input()\n",
    "    print(\"You said : \",human)\n",
    "    human = human.lower()\n",
    "    if human != 'bye':\n",
    "        if human == 'thanks' or human == 'thank you':\n",
    "            continue_flag = False\n",
    "            print(\"You are welcome\")\n",
    "        else:\n",
    "            if genrate_greeting_response(human) != None:\n",
    "                print(\"wiki bot :\",genrate_greeting_response(human))\n",
    "\n",
    "            else:\n",
    "                print(\"wiki bot :\",genrate_response(human))\n",
    "                sentence.remove(human)\n",
    "    else:\n",
    "        continue_flag = False\n",
    "        print(\"Goodbye, Take care of yourself\")\n",
    "    "
   ]
  },
  {
   "cell_type": "code",
   "execution_count": null,
   "id": "c0b86b81",
   "metadata": {},
   "outputs": [
    {
     "name": "stdout",
     "output_type": "stream",
     "text": [
      "Hello I am to assist you , Feel free to ask any thing regarding Laptops\n",
      "\n",
      "You said :  hello\n",
      "Simi Bot!  hey  \n",
      "You said :  what is data science\n",
      "Simple Bot! \n",
      "1.0000000000000002\n",
      "what is data science\n",
      "\n",
      "You said :  what is data\n",
      "Simple Bot! \n",
      "0.5141893734255856\n",
      "vasant dhar writes that statistics emphasizes quantitative data and description.\n",
      "\n",
      "You said :  bye\n"
     ]
    }
   ],
   "source": [
    "\n",
    "# continue_flag = True\n",
    "# print(\"Hello I am to assist you , Feel free to ask any thing regarding Laptops\")\n",
    "# while(continue_flag==True):\n",
    "#     human = input()\n",
    "#     print(\"\\nYou said : \",human, end= \"\\n\")\n",
    "#     if human != \"bye\":\n",
    "#         if human.lower() == \"thankyou \" or human.lower() ==\" see you \":\n",
    "#             print(\"It's been my pleasure to assist you Sir, 'See you soon'\")\n",
    "#             continue_flag = False\n",
    "#         else:\n",
    "#             if genrate_greeting_response(human)!= None:\n",
    "#                 print(\"Simi Bot! \"+ genrate_greeting_response(human),end=\" \")\n",
    "#             else:\n",
    "#                 print(\"Simple Bot! \")\n",
    "#                 print(genrate_response(human))\n",
    "#                 # print(sentence)\n",
    "#                 sentence.remove(human)\n",
    "#     else:\n",
    "#         continue_flag = False"
   ]
  },
  {
   "cell_type": "code",
   "execution_count": null,
   "id": "439ba158-2784-4cc7-8601-07571e2d4d84",
   "metadata": {},
   "outputs": [],
   "source": []
  }
 ],
 "metadata": {
  "kernelspec": {
   "display_name": "Python 3 (ipykernel)",
   "language": "python",
   "name": "python3"
  },
  "language_info": {
   "codemirror_mode": {
    "name": "ipython",
    "version": 3
   },
   "file_extension": ".py",
   "mimetype": "text/x-python",
   "name": "python",
   "nbconvert_exporter": "python",
   "pygments_lexer": "ipython3",
   "version": "3.11.4"
  },
  "widgets": {
   "application/vnd.jupyter.widget-state+json": {
    "state": {},
    "version_major": 2,
    "version_minor": 0
   }
  }
 },
 "nbformat": 4,
 "nbformat_minor": 5
}
